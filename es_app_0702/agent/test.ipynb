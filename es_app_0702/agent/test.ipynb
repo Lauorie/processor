{
 "cells": [
  {
   "cell_type": "code",
   "execution_count": 1,
   "metadata": {},
   "outputs": [
    {
     "name": "stdout",
     "output_type": "stream",
     "text": [
      "原文：Abstract\n",
      "\n",
      "翻译：抱歉，由于您未提供具体的文本，我无法进行翻译。请您提供需要翻译的Abstract部分，我会直接翻译成英文或其他目标语言。\n",
      "\n",
      "原文：Large language models (LLMs) typically utilize the top-k contexts from a retriever in retrieval-augmented generation (RAG). In this work, we propose a novel instruction fine-tuning framework RankRAG, which instruction-tunes a single LLM for the dual purpose of context ranking and answer generation in RAG. In particular, the instruction-tuned LLMs work surprisingly well by adding a small fraction of ranking data into the training blend, and outperform existing expert ranking models, including the same LLM exclusively fine-tuned on a large amount of ranking data. For generation, we compare our model with many strong baselines, including GPT-4-0613, GPT-4-turbo-2024-0409, and ChatQA-1.5, an open-sourced model with the state-of-the-art performance on RAG benchmarks. Specifically, our Llama3-RankRAG significantly outperforms Llama3-ChatQA-1.5 and GPT-4 models on nine knowledge-intensive benchmarks. In addition, it also performs comparably to GPT-4 on five RAG benchmarks in the biomedical domain without instruction fine-tuning on biomedical data, demonstrating its superb capability for generalization to new domains.\n",
      "\n",
      "翻译：大型语言模型（LLMs）通常在检索增强生成（RAG）中使用检索到的前k个上下文。在这项工作中，我们提出了一种新颖的指令 fine-tuning 框架 RankRAG，它针对 RAG 中的上下文排名和答案生成双重任务，对单个 LLM 进行指令调优。特别是，通过在训练融合中添加少量排名数据，指令调优的 LLMs 显示出出人意料的好效果，且优于现有的专门针对大量排名数据进行 fine-tuning 的专家排名模型。对于生成，我们与众多强大的基线进行比较，包括 GPT-4-0613、GPT-4-turbo-2024-0409 和 ChatQA-1.5，这是一个在 RAG 评估基准上表现出最新性能的开源模型。具体来说，我们的 Llama3-RankRAG 在九个知识密集型基准上显著优于 Llama3-ChatQA-1.5 和 GPT-4 模型。此外，它在没有针对生物医学数据进行指令 fine-tuning 的情况下，在五个生物医学领域的 RAG 评估基准上也能与 GPT-4 达到相当的性能，这表明了它在新领域泛化的出色能力。\n",
      "\n"
     ]
    }
   ],
   "source": [
    "# \"Interpretable Catastrophic Forgetting of Large Language Model Fine-tuning via Instruction Vecto\"\n",
    "# \"2022 年半年度报告\"\n",
    "# \"基于大语言模型增强的时间线识别方法\"\n",
    "! curl -X 'POST' http://localhost:5058/agent/V1/ \\\n",
    "     -H \"Content-Type: application/json\" \\\n",
    "     -d '{\"query\":\"翻译摘要\", \"user_id\":\"cmx711\", \"index_type\":\"long_context_v1\",\"file_names\":[\"RankRAG Unifying Context Ranking with\"]}' \\\n",
    "     -N"
   ]
  },
  {
   "cell_type": "code",
   "execution_count": 1,
   "metadata": {},
   "outputs": [
    {
     "name": "stdout",
     "output_type": "stream",
     "text": [
      "Model loaded succeed\n",
      "0.6666666666666666\n"
     ]
    }
   ],
   "source": [
    "from bm25 import BM25Ranker_attach\n",
    "bm25_ranker = BM25Ranker_attach()\n",
    "a = bm25_ranker.query_text_check(query=\"翻译合合信息的《财富》杂志 2022年发布的世界 500强公司名单中，公司客户已覆盖超过 125家。这一章\",text=\"6、公司进行中的研发项目情况\")\n",
    "print(a)"
   ]
  },
  {
   "cell_type": "code",
   "execution_count": null,
   "metadata": {},
   "outputs": [],
   "source": []
  },
  {
   "cell_type": "code",
   "execution_count": null,
   "metadata": {},
   "outputs": [],
   "source": []
  },
  {
   "cell_type": "code",
   "execution_count": 42,
   "metadata": {},
   "outputs": [],
   "source": [
    "def is_title_special(text,i):\n",
    "    \"\"\"\n",
    "    1.识别并标记title类型\n",
    "    \"\"\"\n",
    "    if re.search(r'\\.{6,}', text):\n",
    "        return False\n",
    "    # 二、摘要\n",
    "    pattern_chin = r'^[一二三四五六七八九十百千万亿]+、\\s*[^.,?!:;\\s]+'\n",
    "    if re.match(pattern_chin, text):\n",
    "        return True\n",
    "    # 1、引言\n",
    "    pattern_chin = r'^\\d+、\\s*[^.,?!:;\\s]+'\n",
    "    if re.match(pattern_chin, text):\n",
    "        return True\n",
    "    # 1.2 实验\n",
    "    pattern_num_dot = r'^\\d+(\\.\\d+)+\\s*[^.,?!:;\\s]+'\n",
    "    if re.match(pattern_num_dot, text):\n",
    "        return True\n",
    "    return False"
   ]
  },
  {
   "cell_type": "code",
   "execution_count": 43,
   "metadata": {},
   "outputs": [
    {
     "data": {
      "text/plain": [
       "True"
      ]
     },
     "execution_count": 43,
     "metadata": {},
     "output_type": "execute_result"
    }
   ],
   "source": [
    "import re\n",
    "is_title_special('二、摘要',2)"
   ]
  },
  {
   "cell_type": "code",
   "execution_count": null,
   "metadata": {},
   "outputs": [],
   "source": []
  }
 ],
 "metadata": {
  "kernelspec": {
   "display_name": "016b",
   "language": "python",
   "name": "python3"
  },
  "language_info": {
   "codemirror_mode": {
    "name": "ipython",
    "version": 3
   },
   "file_extension": ".py",
   "mimetype": "text/x-python",
   "name": "python",
   "nbconvert_exporter": "python",
   "pygments_lexer": "ipython3",
   "version": "3.10.13"
  }
 },
 "nbformat": 4,
 "nbformat_minor": 2
}
